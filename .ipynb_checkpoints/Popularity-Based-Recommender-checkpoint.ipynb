{
 "cells": [
  {
   "cell_type": "code",
   "execution_count": 2,
   "id": "86b6eda6",
   "metadata": {},
   "outputs": [],
   "source": [
    "import numpy as np\n",
    "import pandas as pd"
   ]
  },
  {
   "cell_type": "code",
   "execution_count": 3,
   "id": "2c446dc7",
   "metadata": {
    "scrolled": false
   },
   "outputs": [
    {
     "name": "stderr",
     "output_type": "stream",
     "text": [
      "C:\\Users\\Owner\\AppData\\Local\\Temp\\ipykernel_20316\\2945049610.py:1: DtypeWarning: Columns (3) have mixed types. Specify dtype option on import or set low_memory=False.\n",
      "  books = pd.read_csv('Books.csv')\n"
     ]
    }
   ],
   "source": [
    "books = pd.read_csv('Books.csv')\n",
    "\n",
    "books.drop(columns = ['Year-Of-Publication'], inplace = True)"
   ]
  },
  {
   "cell_type": "markdown",
   "id": "43b8f40e",
   "metadata": {},
   "source": [
    "Here with web scraping I can add a new column called - book description "
   ]
  },
  {
   "cell_type": "code",
   "execution_count": 37,
   "id": "c58c89e8",
   "metadata": {},
   "outputs": [
    {
     "data": {
      "text/html": [
       "<div>\n",
       "<style scoped>\n",
       "    .dataframe tbody tr th:only-of-type {\n",
       "        vertical-align: middle;\n",
       "    }\n",
       "\n",
       "    .dataframe tbody tr th {\n",
       "        vertical-align: top;\n",
       "    }\n",
       "\n",
       "    .dataframe thead th {\n",
       "        text-align: right;\n",
       "    }\n",
       "</style>\n",
       "<table border=\"1\" class=\"dataframe\">\n",
       "  <thead>\n",
       "    <tr style=\"text-align: right;\">\n",
       "      <th></th>\n",
       "      <th>ISBN</th>\n",
       "      <th>Book-Title</th>\n",
       "      <th>Book-Author</th>\n",
       "      <th>Publisher</th>\n",
       "      <th>Image-URL-S</th>\n",
       "      <th>Image-URL-M</th>\n",
       "      <th>Image-URL-L</th>\n",
       "    </tr>\n",
       "  </thead>\n",
       "  <tbody>\n",
       "    <tr>\n",
       "      <th>0</th>\n",
       "      <td>0195153448</td>\n",
       "      <td>Classical Mythology</td>\n",
       "      <td>Mark P. O. Morford</td>\n",
       "      <td>Oxford University Press</td>\n",
       "      <td>http://images.amazon.com/images/P/0195153448.0...</td>\n",
       "      <td>http://images.amazon.com/images/P/0195153448.0...</td>\n",
       "      <td>http://images.amazon.com/images/P/0195153448.0...</td>\n",
       "    </tr>\n",
       "    <tr>\n",
       "      <th>1</th>\n",
       "      <td>0002005018</td>\n",
       "      <td>Clara Callan</td>\n",
       "      <td>Richard Bruce Wright</td>\n",
       "      <td>HarperFlamingo Canada</td>\n",
       "      <td>http://images.amazon.com/images/P/0002005018.0...</td>\n",
       "      <td>http://images.amazon.com/images/P/0002005018.0...</td>\n",
       "      <td>http://images.amazon.com/images/P/0002005018.0...</td>\n",
       "    </tr>\n",
       "    <tr>\n",
       "      <th>2</th>\n",
       "      <td>0060973129</td>\n",
       "      <td>Decision in Normandy</td>\n",
       "      <td>Carlo D'Este</td>\n",
       "      <td>HarperPerennial</td>\n",
       "      <td>http://images.amazon.com/images/P/0060973129.0...</td>\n",
       "      <td>http://images.amazon.com/images/P/0060973129.0...</td>\n",
       "      <td>http://images.amazon.com/images/P/0060973129.0...</td>\n",
       "    </tr>\n",
       "    <tr>\n",
       "      <th>3</th>\n",
       "      <td>0374157065</td>\n",
       "      <td>Flu: The Story of the Great Influenza Pandemic...</td>\n",
       "      <td>Gina Bari Kolata</td>\n",
       "      <td>Farrar Straus Giroux</td>\n",
       "      <td>http://images.amazon.com/images/P/0374157065.0...</td>\n",
       "      <td>http://images.amazon.com/images/P/0374157065.0...</td>\n",
       "      <td>http://images.amazon.com/images/P/0374157065.0...</td>\n",
       "    </tr>\n",
       "    <tr>\n",
       "      <th>4</th>\n",
       "      <td>0393045218</td>\n",
       "      <td>The Mummies of Urumchi</td>\n",
       "      <td>E. J. W. Barber</td>\n",
       "      <td>W. W. Norton &amp;amp; Company</td>\n",
       "      <td>http://images.amazon.com/images/P/0393045218.0...</td>\n",
       "      <td>http://images.amazon.com/images/P/0393045218.0...</td>\n",
       "      <td>http://images.amazon.com/images/P/0393045218.0...</td>\n",
       "    </tr>\n",
       "  </tbody>\n",
       "</table>\n",
       "</div>"
      ],
      "text/plain": [
       "         ISBN                                         Book-Title  \\\n",
       "0  0195153448                                Classical Mythology   \n",
       "1  0002005018                                       Clara Callan   \n",
       "2  0060973129                               Decision in Normandy   \n",
       "3  0374157065  Flu: The Story of the Great Influenza Pandemic...   \n",
       "4  0393045218                             The Mummies of Urumchi   \n",
       "\n",
       "            Book-Author                   Publisher  \\\n",
       "0    Mark P. O. Morford     Oxford University Press   \n",
       "1  Richard Bruce Wright       HarperFlamingo Canada   \n",
       "2          Carlo D'Este             HarperPerennial   \n",
       "3      Gina Bari Kolata        Farrar Straus Giroux   \n",
       "4       E. J. W. Barber  W. W. Norton &amp; Company   \n",
       "\n",
       "                                         Image-URL-S  \\\n",
       "0  http://images.amazon.com/images/P/0195153448.0...   \n",
       "1  http://images.amazon.com/images/P/0002005018.0...   \n",
       "2  http://images.amazon.com/images/P/0060973129.0...   \n",
       "3  http://images.amazon.com/images/P/0374157065.0...   \n",
       "4  http://images.amazon.com/images/P/0393045218.0...   \n",
       "\n",
       "                                         Image-URL-M  \\\n",
       "0  http://images.amazon.com/images/P/0195153448.0...   \n",
       "1  http://images.amazon.com/images/P/0002005018.0...   \n",
       "2  http://images.amazon.com/images/P/0060973129.0...   \n",
       "3  http://images.amazon.com/images/P/0374157065.0...   \n",
       "4  http://images.amazon.com/images/P/0393045218.0...   \n",
       "\n",
       "                                         Image-URL-L  \n",
       "0  http://images.amazon.com/images/P/0195153448.0...  \n",
       "1  http://images.amazon.com/images/P/0002005018.0...  \n",
       "2  http://images.amazon.com/images/P/0060973129.0...  \n",
       "3  http://images.amazon.com/images/P/0374157065.0...  \n",
       "4  http://images.amazon.com/images/P/0393045218.0...  "
      ]
     },
     "execution_count": 37,
     "metadata": {},
     "output_type": "execute_result"
    }
   ],
   "source": [
    "books.head()"
   ]
  },
  {
   "cell_type": "code",
   "execution_count": 26,
   "id": "f209ca8c",
   "metadata": {},
   "outputs": [],
   "source": [
    "import vaex"
   ]
  },
  {
   "cell_type": "code",
   "execution_count": 27,
   "id": "34d83261",
   "metadata": {},
   "outputs": [],
   "source": [
    "books = vaex.from_pandas(books)"
   ]
  },
  {
   "cell_type": "code",
   "execution_count": 28,
   "id": "0043eb17",
   "metadata": {},
   "outputs": [
    {
     "data": {
      "text/plain": [
       "vaex.dataframe.DataFrameLocal"
      ]
     },
     "execution_count": 28,
     "metadata": {},
     "output_type": "execute_result"
    }
   ],
   "source": [
    "type(books)"
   ]
  },
  {
   "cell_type": "code",
   "execution_count": 29,
   "id": "fc291864",
   "metadata": {},
   "outputs": [],
   "source": [
    "books.export_hdf5('books.hdf5')  "
   ]
  },
  {
   "cell_type": "code",
   "execution_count": 30,
   "id": "e95a58c9",
   "metadata": {},
   "outputs": [
    {
     "data": {
      "text/html": [
       "<table>\n",
       "<thead>\n",
       "<tr><th>#                            </th><th>ISBN      </th><th>Book-Title                                         </th><th>Book-Author         </th><th>Publisher                 </th><th>Image-URL-S                                        </th><th>Image-URL-M                                        </th><th>Image-URL-L                                        </th></tr>\n",
       "</thead>\n",
       "<tbody>\n",
       "<tr><td><i style='opacity: 0.6'>0</i></td><td>0195153448</td><td>Classical Mythology                                </td><td>Mark P. O. Morford  </td><td>Oxford University Press   </td><td>&#x27;http://images.amazon.com/images/P/0195153448.01...</td><td>&#x27;http://images.amazon.com/images/P/0195153448.01...</td><td>&#x27;http://images.amazon.com/images/P/0195153448.01...</td></tr>\n",
       "<tr><td><i style='opacity: 0.6'>1</i></td><td>0002005018</td><td>Clara Callan                                       </td><td>Richard Bruce Wright</td><td>HarperFlamingo Canada     </td><td>&#x27;http://images.amazon.com/images/P/0002005018.01...</td><td>&#x27;http://images.amazon.com/images/P/0002005018.01...</td><td>&#x27;http://images.amazon.com/images/P/0002005018.01...</td></tr>\n",
       "<tr><td><i style='opacity: 0.6'>2</i></td><td>0060973129</td><td>Decision in Normandy                               </td><td>Carlo D&#x27;Este        </td><td>HarperPerennial           </td><td>&#x27;http://images.amazon.com/images/P/0060973129.01...</td><td>&#x27;http://images.amazon.com/images/P/0060973129.01...</td><td>&#x27;http://images.amazon.com/images/P/0060973129.01...</td></tr>\n",
       "<tr><td><i style='opacity: 0.6'>3</i></td><td>0374157065</td><td>&#x27;Flu: The Story of the Great Influenza Pandemic ...</td><td>Gina Bari Kolata    </td><td>Farrar Straus Giroux      </td><td>&#x27;http://images.amazon.com/images/P/0374157065.01...</td><td>&#x27;http://images.amazon.com/images/P/0374157065.01...</td><td>&#x27;http://images.amazon.com/images/P/0374157065.01...</td></tr>\n",
       "<tr><td><i style='opacity: 0.6'>4</i></td><td>0393045218</td><td>The Mummies of Urumchi                             </td><td>E. J. W. Barber     </td><td>W. W. Norton &amp;amp; Company</td><td>&#x27;http://images.amazon.com/images/P/0393045218.01...</td><td>&#x27;http://images.amazon.com/images/P/0393045218.01...</td><td>&#x27;http://images.amazon.com/images/P/0393045218.01...</td></tr>\n",
       "<tr><td><i style='opacity: 0.6'>5</i></td><td>0399135782</td><td>The Kitchen God&#x27;s Wife                             </td><td>Amy Tan             </td><td>Putnam Pub Group          </td><td>&#x27;http://images.amazon.com/images/P/0399135782.01...</td><td>&#x27;http://images.amazon.com/images/P/0399135782.01...</td><td>&#x27;http://images.amazon.com/images/P/0399135782.01...</td></tr>\n",
       "<tr><td><i style='opacity: 0.6'>6</i></td><td>0425176428</td><td>&quot;What If?: The World&#x27;s Foremost Military Histori...</td><td>Robert Cowley       </td><td>Berkley Publishing Group  </td><td>&#x27;http://images.amazon.com/images/P/0425176428.01...</td><td>&#x27;http://images.amazon.com/images/P/0425176428.01...</td><td>&#x27;http://images.amazon.com/images/P/0425176428.01...</td></tr>\n",
       "<tr><td><i style='opacity: 0.6'>7</i></td><td>0671870432</td><td>PLEADING GUILTY                                    </td><td>Scott Turow         </td><td>Audioworks                </td><td>&#x27;http://images.amazon.com/images/P/0671870432.01...</td><td>&#x27;http://images.amazon.com/images/P/0671870432.01...</td><td>&#x27;http://images.amazon.com/images/P/0671870432.01...</td></tr>\n",
       "<tr><td><i style='opacity: 0.6'>8</i></td><td>0679425608</td><td>&#x27;Under the Black Flag: The Romance and the Reali...</td><td>David Cordingly     </td><td>Random House              </td><td>&#x27;http://images.amazon.com/images/P/0679425608.01...</td><td>&#x27;http://images.amazon.com/images/P/0679425608.01...</td><td>&#x27;http://images.amazon.com/images/P/0679425608.01...</td></tr>\n",
       "<tr><td><i style='opacity: 0.6'>9</i></td><td>074322678X</td><td>Where You&#x27;ll Find Me: And Other Stories            </td><td>Ann Beattie         </td><td>Scribner                  </td><td>&#x27;http://images.amazon.com/images/P/074322678X.01...</td><td>&#x27;http://images.amazon.com/images/P/074322678X.01...</td><td>&#x27;http://images.amazon.com/images/P/074322678X.01...</td></tr>\n",
       "</tbody>\n",
       "</table>"
      ],
      "text/plain": [
       "  #  ISBN        Book-Title                                           Book-Author           Publisher                   Image-URL-S                                          Image-URL-M                                          Image-URL-L\n",
       "  0  0195153448  Classical Mythology                                  Mark P. O. Morford    Oxford University Press     'http://images.amazon.com/images/P/0195153448.01...  'http://images.amazon.com/images/P/0195153448.01...  'http://images.amazon.com/images/P/0195153448.01...\n",
       "  1  0002005018  Clara Callan                                         Richard Bruce Wright  HarperFlamingo Canada       'http://images.amazon.com/images/P/0002005018.01...  'http://images.amazon.com/images/P/0002005018.01...  'http://images.amazon.com/images/P/0002005018.01...\n",
       "  2  0060973129  Decision in Normandy                                 Carlo D'Este          HarperPerennial             'http://images.amazon.com/images/P/0060973129.01...  'http://images.amazon.com/images/P/0060973129.01...  'http://images.amazon.com/images/P/0060973129.01...\n",
       "  3  0374157065  'Flu: The Story of the Great Influenza Pandemic ...  Gina Bari Kolata      Farrar Straus Giroux        'http://images.amazon.com/images/P/0374157065.01...  'http://images.amazon.com/images/P/0374157065.01...  'http://images.amazon.com/images/P/0374157065.01...\n",
       "  4  0393045218  The Mummies of Urumchi                               E. J. W. Barber       W. W. Norton &amp; Company  'http://images.amazon.com/images/P/0393045218.01...  'http://images.amazon.com/images/P/0393045218.01...  'http://images.amazon.com/images/P/0393045218.01...\n",
       "  5  0399135782  The Kitchen God's Wife                               Amy Tan               Putnam Pub Group            'http://images.amazon.com/images/P/0399135782.01...  'http://images.amazon.com/images/P/0399135782.01...  'http://images.amazon.com/images/P/0399135782.01...\n",
       "  6  0425176428  \"What If?: The World's Foremost Military Histori...  Robert Cowley         Berkley Publishing Group    'http://images.amazon.com/images/P/0425176428.01...  'http://images.amazon.com/images/P/0425176428.01...  'http://images.amazon.com/images/P/0425176428.01...\n",
       "  7  0671870432  PLEADING GUILTY                                      Scott Turow           Audioworks                  'http://images.amazon.com/images/P/0671870432.01...  'http://images.amazon.com/images/P/0671870432.01...  'http://images.amazon.com/images/P/0671870432.01...\n",
       "  8  0679425608  'Under the Black Flag: The Romance and the Reali...  David Cordingly       Random House                'http://images.amazon.com/images/P/0679425608.01...  'http://images.amazon.com/images/P/0679425608.01...  'http://images.amazon.com/images/P/0679425608.01...\n",
       "  9  074322678X  Where You'll Find Me: And Other Stories              Ann Beattie           Scribner                    'http://images.amazon.com/images/P/074322678X.01...  'http://images.amazon.com/images/P/074322678X.01...  'http://images.amazon.com/images/P/074322678X.01..."
      ]
     },
     "execution_count": 30,
     "metadata": {},
     "output_type": "execute_result"
    }
   ],
   "source": [
    "books.head()"
   ]
  },
  {
   "cell_type": "code",
   "execution_count": null,
   "id": "ac8757de",
   "metadata": {},
   "outputs": [],
   "source": []
  },
  {
   "cell_type": "code",
   "execution_count": null,
   "id": "ddde1a3a",
   "metadata": {},
   "outputs": [],
   "source": []
  },
  {
   "cell_type": "code",
   "execution_count": null,
   "id": "c15db342",
   "metadata": {},
   "outputs": [],
   "source": [
    "import pandas as pd\n",
    "import requests\n",
    "from urllib.parse import quote"
   ]
  },
  {
   "cell_type": "code",
   "execution_count": null,
   "id": "c20dfffa",
   "metadata": {},
   "outputs": [],
   "source": [
    "def get_search_url(title):\n",
    "    base_url = 'https://www.goodreads.com/search'\n",
    "    query_param = quote(title)  # URL-encode the book title\n",
    "    \n",
    "    # Construct the URL with the query parameter\n",
    "    url = f'{base_url}?q={query_param}'\n",
    "    \n",
    "    return url"
   ]
  },
  {
   "cell_type": "code",
   "execution_count": null,
   "id": "78854141",
   "metadata": {},
   "outputs": [],
   "source": [
    "books['Search URL'] = books['Book-Title'].apply(get_search_url)"
   ]
  },
  {
   "cell_type": "code",
   "execution_count": 38,
   "id": "035b38cc",
   "metadata": {},
   "outputs": [
    {
     "data": {
      "text/plain": [
       "0         http://images.amazon.com/images/P/0195153448.0...\n",
       "1         http://images.amazon.com/images/P/0002005018.0...\n",
       "2         http://images.amazon.com/images/P/0060973129.0...\n",
       "3         http://images.amazon.com/images/P/0374157065.0...\n",
       "4         http://images.amazon.com/images/P/0393045218.0...\n",
       "                                ...                        \n",
       "271355    http://images.amazon.com/images/P/0440400988.0...\n",
       "271356    http://images.amazon.com/images/P/0525447644.0...\n",
       "271357    http://images.amazon.com/images/P/006008667X.0...\n",
       "271358    http://images.amazon.com/images/P/0192126040.0...\n",
       "271359    http://images.amazon.com/images/P/0767409752.0...\n",
       "Name: Image-URL-L, Length: 271360, dtype: object"
      ]
     },
     "execution_count": 38,
     "metadata": {},
     "output_type": "execute_result"
    }
   ],
   "source": [
    "books.iloc[:, -1]"
   ]
  },
  {
   "cell_type": "code",
   "execution_count": 39,
   "id": "1842eb00",
   "metadata": {},
   "outputs": [
    {
     "data": {
      "text/plain": [
       "0                                       Classical Mythology\n",
       "1                                              Clara Callan\n",
       "2                                      Decision in Normandy\n",
       "3         Flu: The Story of the Great Influenza Pandemic...\n",
       "4                                    The Mummies of Urumchi\n",
       "                                ...                        \n",
       "271355                           There's a Bat in Bunk Five\n",
       "271356                              From One to One Hundred\n",
       "271357    Lily Dale : The True Story of the Town that Ta...\n",
       "271358                          Republic (World's Classics)\n",
       "271359    A Guided Tour of Rene Descartes' Meditations o...\n",
       "Name: Book-Title, Length: 271360, dtype: object"
      ]
     },
     "execution_count": 39,
     "metadata": {},
     "output_type": "execute_result"
    }
   ],
   "source": [
    "books.iloc[:, 1]"
   ]
  },
  {
   "cell_type": "code",
   "execution_count": 4,
   "id": "7fa78989",
   "metadata": {},
   "outputs": [],
   "source": [
    "books_new = books.iloc[0:10, :]"
   ]
  },
  {
   "cell_type": "code",
   "execution_count": 5,
   "id": "0e26f6c1",
   "metadata": {},
   "outputs": [
    {
     "data": {
      "text/html": [
       "<div>\n",
       "<style scoped>\n",
       "    .dataframe tbody tr th:only-of-type {\n",
       "        vertical-align: middle;\n",
       "    }\n",
       "\n",
       "    .dataframe tbody tr th {\n",
       "        vertical-align: top;\n",
       "    }\n",
       "\n",
       "    .dataframe thead th {\n",
       "        text-align: right;\n",
       "    }\n",
       "</style>\n",
       "<table border=\"1\" class=\"dataframe\">\n",
       "  <thead>\n",
       "    <tr style=\"text-align: right;\">\n",
       "      <th></th>\n",
       "      <th>ISBN</th>\n",
       "      <th>Book-Title</th>\n",
       "      <th>Book-Author</th>\n",
       "      <th>Publisher</th>\n",
       "      <th>Image-URL-S</th>\n",
       "      <th>Image-URL-M</th>\n",
       "      <th>Image-URL-L</th>\n",
       "    </tr>\n",
       "  </thead>\n",
       "  <tbody>\n",
       "    <tr>\n",
       "      <th>0</th>\n",
       "      <td>0195153448</td>\n",
       "      <td>Classical Mythology</td>\n",
       "      <td>Mark P. O. Morford</td>\n",
       "      <td>Oxford University Press</td>\n",
       "      <td>http://images.amazon.com/images/P/0195153448.0...</td>\n",
       "      <td>http://images.amazon.com/images/P/0195153448.0...</td>\n",
       "      <td>http://images.amazon.com/images/P/0195153448.0...</td>\n",
       "    </tr>\n",
       "    <tr>\n",
       "      <th>1</th>\n",
       "      <td>0002005018</td>\n",
       "      <td>Clara Callan</td>\n",
       "      <td>Richard Bruce Wright</td>\n",
       "      <td>HarperFlamingo Canada</td>\n",
       "      <td>http://images.amazon.com/images/P/0002005018.0...</td>\n",
       "      <td>http://images.amazon.com/images/P/0002005018.0...</td>\n",
       "      <td>http://images.amazon.com/images/P/0002005018.0...</td>\n",
       "    </tr>\n",
       "    <tr>\n",
       "      <th>2</th>\n",
       "      <td>0060973129</td>\n",
       "      <td>Decision in Normandy</td>\n",
       "      <td>Carlo D'Este</td>\n",
       "      <td>HarperPerennial</td>\n",
       "      <td>http://images.amazon.com/images/P/0060973129.0...</td>\n",
       "      <td>http://images.amazon.com/images/P/0060973129.0...</td>\n",
       "      <td>http://images.amazon.com/images/P/0060973129.0...</td>\n",
       "    </tr>\n",
       "    <tr>\n",
       "      <th>3</th>\n",
       "      <td>0374157065</td>\n",
       "      <td>Flu: The Story of the Great Influenza Pandemic...</td>\n",
       "      <td>Gina Bari Kolata</td>\n",
       "      <td>Farrar Straus Giroux</td>\n",
       "      <td>http://images.amazon.com/images/P/0374157065.0...</td>\n",
       "      <td>http://images.amazon.com/images/P/0374157065.0...</td>\n",
       "      <td>http://images.amazon.com/images/P/0374157065.0...</td>\n",
       "    </tr>\n",
       "    <tr>\n",
       "      <th>4</th>\n",
       "      <td>0393045218</td>\n",
       "      <td>The Mummies of Urumchi</td>\n",
       "      <td>E. J. W. Barber</td>\n",
       "      <td>W. W. Norton &amp;amp; Company</td>\n",
       "      <td>http://images.amazon.com/images/P/0393045218.0...</td>\n",
       "      <td>http://images.amazon.com/images/P/0393045218.0...</td>\n",
       "      <td>http://images.amazon.com/images/P/0393045218.0...</td>\n",
       "    </tr>\n",
       "    <tr>\n",
       "      <th>5</th>\n",
       "      <td>0399135782</td>\n",
       "      <td>The Kitchen God's Wife</td>\n",
       "      <td>Amy Tan</td>\n",
       "      <td>Putnam Pub Group</td>\n",
       "      <td>http://images.amazon.com/images/P/0399135782.0...</td>\n",
       "      <td>http://images.amazon.com/images/P/0399135782.0...</td>\n",
       "      <td>http://images.amazon.com/images/P/0399135782.0...</td>\n",
       "    </tr>\n",
       "    <tr>\n",
       "      <th>6</th>\n",
       "      <td>0425176428</td>\n",
       "      <td>What If?: The World's Foremost Military Histor...</td>\n",
       "      <td>Robert Cowley</td>\n",
       "      <td>Berkley Publishing Group</td>\n",
       "      <td>http://images.amazon.com/images/P/0425176428.0...</td>\n",
       "      <td>http://images.amazon.com/images/P/0425176428.0...</td>\n",
       "      <td>http://images.amazon.com/images/P/0425176428.0...</td>\n",
       "    </tr>\n",
       "    <tr>\n",
       "      <th>7</th>\n",
       "      <td>0671870432</td>\n",
       "      <td>PLEADING GUILTY</td>\n",
       "      <td>Scott Turow</td>\n",
       "      <td>Audioworks</td>\n",
       "      <td>http://images.amazon.com/images/P/0671870432.0...</td>\n",
       "      <td>http://images.amazon.com/images/P/0671870432.0...</td>\n",
       "      <td>http://images.amazon.com/images/P/0671870432.0...</td>\n",
       "    </tr>\n",
       "    <tr>\n",
       "      <th>8</th>\n",
       "      <td>0679425608</td>\n",
       "      <td>Under the Black Flag: The Romance and the Real...</td>\n",
       "      <td>David Cordingly</td>\n",
       "      <td>Random House</td>\n",
       "      <td>http://images.amazon.com/images/P/0679425608.0...</td>\n",
       "      <td>http://images.amazon.com/images/P/0679425608.0...</td>\n",
       "      <td>http://images.amazon.com/images/P/0679425608.0...</td>\n",
       "    </tr>\n",
       "    <tr>\n",
       "      <th>9</th>\n",
       "      <td>074322678X</td>\n",
       "      <td>Where You'll Find Me: And Other Stories</td>\n",
       "      <td>Ann Beattie</td>\n",
       "      <td>Scribner</td>\n",
       "      <td>http://images.amazon.com/images/P/074322678X.0...</td>\n",
       "      <td>http://images.amazon.com/images/P/074322678X.0...</td>\n",
       "      <td>http://images.amazon.com/images/P/074322678X.0...</td>\n",
       "    </tr>\n",
       "  </tbody>\n",
       "</table>\n",
       "</div>"
      ],
      "text/plain": [
       "         ISBN                                         Book-Title  \\\n",
       "0  0195153448                                Classical Mythology   \n",
       "1  0002005018                                       Clara Callan   \n",
       "2  0060973129                               Decision in Normandy   \n",
       "3  0374157065  Flu: The Story of the Great Influenza Pandemic...   \n",
       "4  0393045218                             The Mummies of Urumchi   \n",
       "5  0399135782                             The Kitchen God's Wife   \n",
       "6  0425176428  What If?: The World's Foremost Military Histor...   \n",
       "7  0671870432                                    PLEADING GUILTY   \n",
       "8  0679425608  Under the Black Flag: The Romance and the Real...   \n",
       "9  074322678X            Where You'll Find Me: And Other Stories   \n",
       "\n",
       "            Book-Author                   Publisher  \\\n",
       "0    Mark P. O. Morford     Oxford University Press   \n",
       "1  Richard Bruce Wright       HarperFlamingo Canada   \n",
       "2          Carlo D'Este             HarperPerennial   \n",
       "3      Gina Bari Kolata        Farrar Straus Giroux   \n",
       "4       E. J. W. Barber  W. W. Norton &amp; Company   \n",
       "5               Amy Tan            Putnam Pub Group   \n",
       "6         Robert Cowley    Berkley Publishing Group   \n",
       "7           Scott Turow                  Audioworks   \n",
       "8       David Cordingly                Random House   \n",
       "9           Ann Beattie                    Scribner   \n",
       "\n",
       "                                         Image-URL-S  \\\n",
       "0  http://images.amazon.com/images/P/0195153448.0...   \n",
       "1  http://images.amazon.com/images/P/0002005018.0...   \n",
       "2  http://images.amazon.com/images/P/0060973129.0...   \n",
       "3  http://images.amazon.com/images/P/0374157065.0...   \n",
       "4  http://images.amazon.com/images/P/0393045218.0...   \n",
       "5  http://images.amazon.com/images/P/0399135782.0...   \n",
       "6  http://images.amazon.com/images/P/0425176428.0...   \n",
       "7  http://images.amazon.com/images/P/0671870432.0...   \n",
       "8  http://images.amazon.com/images/P/0679425608.0...   \n",
       "9  http://images.amazon.com/images/P/074322678X.0...   \n",
       "\n",
       "                                         Image-URL-M  \\\n",
       "0  http://images.amazon.com/images/P/0195153448.0...   \n",
       "1  http://images.amazon.com/images/P/0002005018.0...   \n",
       "2  http://images.amazon.com/images/P/0060973129.0...   \n",
       "3  http://images.amazon.com/images/P/0374157065.0...   \n",
       "4  http://images.amazon.com/images/P/0393045218.0...   \n",
       "5  http://images.amazon.com/images/P/0399135782.0...   \n",
       "6  http://images.amazon.com/images/P/0425176428.0...   \n",
       "7  http://images.amazon.com/images/P/0671870432.0...   \n",
       "8  http://images.amazon.com/images/P/0679425608.0...   \n",
       "9  http://images.amazon.com/images/P/074322678X.0...   \n",
       "\n",
       "                                         Image-URL-L  \n",
       "0  http://images.amazon.com/images/P/0195153448.0...  \n",
       "1  http://images.amazon.com/images/P/0002005018.0...  \n",
       "2  http://images.amazon.com/images/P/0060973129.0...  \n",
       "3  http://images.amazon.com/images/P/0374157065.0...  \n",
       "4  http://images.amazon.com/images/P/0393045218.0...  \n",
       "5  http://images.amazon.com/images/P/0399135782.0...  \n",
       "6  http://images.amazon.com/images/P/0425176428.0...  \n",
       "7  http://images.amazon.com/images/P/0671870432.0...  \n",
       "8  http://images.amazon.com/images/P/0679425608.0...  \n",
       "9  http://images.amazon.com/images/P/074322678X.0...  "
      ]
     },
     "execution_count": 5,
     "metadata": {},
     "output_type": "execute_result"
    }
   ],
   "source": [
    "books_new"
   ]
  },
  {
   "cell_type": "code",
   "execution_count": null,
   "id": "d4f945b7",
   "metadata": {},
   "outputs": [],
   "source": []
  },
  {
   "cell_type": "markdown",
   "id": "d2240963",
   "metadata": {},
   "source": [
    "**THIs one working**"
   ]
  },
  {
   "cell_type": "code",
   "execution_count": 51,
   "id": "aeeae4da",
   "metadata": {},
   "outputs": [
    {
     "name": "stderr",
     "output_type": "stream",
     "text": [
      "C:\\Users\\Owner\\AppData\\Local\\Temp\\ipykernel_8956\\3958178220.py:36: SettingWithCopyWarning: \n",
      "A value is trying to be set on a copy of a slice from a DataFrame.\n",
      "Try using .loc[row_indexer,col_indexer] = value instead\n",
      "\n",
      "See the caveats in the documentation: https://pandas.pydata.org/pandas-docs/stable/user_guide/indexing.html#returning-a-view-versus-a-copy\n",
      "  df['book-description'] = None\n",
      "C:\\Users\\Owner\\AppData\\Local\\Temp\\ipykernel_8956\\3958178220.py:43: SettingWithCopyWarning: \n",
      "A value is trying to be set on a copy of a slice from a DataFrame.\n",
      "Try using .loc[row_indexer,col_indexer] = value instead\n",
      "\n",
      "See the caveats in the documentation: https://pandas.pydata.org/pandas-docs/stable/user_guide/indexing.html#returning-a-view-versus-a-copy\n",
      "  df.loc[index, 'Book-escription'] = description\n"
     ]
    }
   ],
   "source": [
    "\n",
    "\n",
    "import requests\n",
    "from bs4 import BeautifulSoup\n",
    "import pandas as pd\n",
    "\n",
    "# Function to scrape book descriptions\n",
    "def scrape_book_description(title, author):\n",
    "    # Format the title to be used in the URL\n",
    "    formatted_title = title.replace(' ', '+')\n",
    "    formatted_author = author.replace(' ', '+')\n",
    "\n",
    "    # Create the search URL\n",
    "    search_url = f\"https://www.google.com/search?q={formatted_title}+by+{formatted_author}\"\n",
    "\n",
    "    # Send a GET request to the search URL\n",
    "    response = requests.get(search_url)\n",
    "\n",
    "    # Check if the request was successful\n",
    "    if response.status_code == 200:\n",
    "        # Parse the HTML content\n",
    "        soup = BeautifulSoup(response.content, 'html.parser')\n",
    "\n",
    "        # Find the book description element\n",
    "        description_element = soup.find('div', class_=\"BNeawe\")\n",
    "\n",
    "        # Check if a description is found\n",
    "        if description_element:\n",
    "            return description_element.text.strip()\n",
    "\n",
    "    # If no description is found, return None\n",
    "    return None\n",
    "\n",
    "# Load your dataset with book titles into a pandas DataFrame\n",
    "df = books_new\n",
    "\n",
    "# Add a new column for book descriptions\n",
    "df['Book-Description'] = None\n",
    "\n",
    "# Iterate over the book titles and scrape descriptions\n",
    "for index, row in df.iterrows():\n",
    "    book_title = row['Book-Title']\n",
    "    book_author = row['Book-Author']\n",
    "    description = scrape_book_description(book_title, book_author)\n",
    "    df.loc[index, 'Book-Description'] = description\n",
    "\n",
    "\n",
    "# Save the updated DataFrame with book descriptions\n",
    "df.to_csv('your_updated_dataset2.csv', index=False)\n"
   ]
  },
  {
   "cell_type": "code",
   "execution_count": 52,
   "id": "4a39649f",
   "metadata": {},
   "outputs": [
    {
     "data": {
      "text/html": [
       "<div>\n",
       "<style scoped>\n",
       "    .dataframe tbody tr th:only-of-type {\n",
       "        vertical-align: middle;\n",
       "    }\n",
       "\n",
       "    .dataframe tbody tr th {\n",
       "        vertical-align: top;\n",
       "    }\n",
       "\n",
       "    .dataframe thead th {\n",
       "        text-align: right;\n",
       "    }\n",
       "</style>\n",
       "<table border=\"1\" class=\"dataframe\">\n",
       "  <thead>\n",
       "    <tr style=\"text-align: right;\">\n",
       "      <th></th>\n",
       "      <th>ISBN</th>\n",
       "      <th>Book-Title</th>\n",
       "      <th>Book-Author</th>\n",
       "      <th>Publisher</th>\n",
       "      <th>Image-URL-S</th>\n",
       "      <th>Image-URL-M</th>\n",
       "      <th>Image-URL-L</th>\n",
       "      <th>book-description</th>\n",
       "      <th>Book-escription</th>\n",
       "    </tr>\n",
       "  </thead>\n",
       "  <tbody>\n",
       "    <tr>\n",
       "      <th>0</th>\n",
       "      <td>0195153448</td>\n",
       "      <td>Classical Mythology</td>\n",
       "      <td>Mark P. O. Morford</td>\n",
       "      <td>Oxford University Press</td>\n",
       "      <td>http://images.amazon.com/images/P/0195153448.0...</td>\n",
       "      <td>http://images.amazon.com/images/P/0195153448.0...</td>\n",
       "      <td>http://images.amazon.com/images/P/0195153448.0...</td>\n",
       "      <td>NaN</td>\n",
       "      <td>Classical Mythology</td>\n",
       "    </tr>\n",
       "    <tr>\n",
       "      <th>1</th>\n",
       "      <td>0002005018</td>\n",
       "      <td>Clara Callan</td>\n",
       "      <td>Richard Bruce Wright</td>\n",
       "      <td>HarperFlamingo Canada</td>\n",
       "      <td>http://images.amazon.com/images/P/0002005018.0...</td>\n",
       "      <td>http://images.amazon.com/images/P/0002005018.0...</td>\n",
       "      <td>http://images.amazon.com/images/P/0002005018.0...</td>\n",
       "      <td>NaN</td>\n",
       "      <td>Clara Callan</td>\n",
       "    </tr>\n",
       "    <tr>\n",
       "      <th>2</th>\n",
       "      <td>0060973129</td>\n",
       "      <td>Decision in Normandy</td>\n",
       "      <td>Carlo D'Este</td>\n",
       "      <td>HarperPerennial</td>\n",
       "      <td>http://images.amazon.com/images/P/0060973129.0...</td>\n",
       "      <td>http://images.amazon.com/images/P/0060973129.0...</td>\n",
       "      <td>http://images.amazon.com/images/P/0060973129.0...</td>\n",
       "      <td>NaN</td>\n",
       "      <td>Decision in Normandy</td>\n",
       "    </tr>\n",
       "    <tr>\n",
       "      <th>3</th>\n",
       "      <td>0374157065</td>\n",
       "      <td>Flu: The Story of the Great Influenza Pandemic...</td>\n",
       "      <td>Gina Bari Kolata</td>\n",
       "      <td>Farrar Straus Giroux</td>\n",
       "      <td>http://images.amazon.com/images/P/0374157065.0...</td>\n",
       "      <td>http://images.amazon.com/images/P/0374157065.0...</td>\n",
       "      <td>http://images.amazon.com/images/P/0374157065.0...</td>\n",
       "      <td>NaN</td>\n",
       "      <td>Flu: The Story of the Great Influenza Pandemic...</td>\n",
       "    </tr>\n",
       "    <tr>\n",
       "      <th>4</th>\n",
       "      <td>0393045218</td>\n",
       "      <td>The Mummies of Urumchi</td>\n",
       "      <td>E. J. W. Barber</td>\n",
       "      <td>W. W. Norton &amp;amp; Company</td>\n",
       "      <td>http://images.amazon.com/images/P/0393045218.0...</td>\n",
       "      <td>http://images.amazon.com/images/P/0393045218.0...</td>\n",
       "      <td>http://images.amazon.com/images/P/0393045218.0...</td>\n",
       "      <td>NaN</td>\n",
       "      <td>The mummies of Ürümchi</td>\n",
       "    </tr>\n",
       "    <tr>\n",
       "      <th>5</th>\n",
       "      <td>0399135782</td>\n",
       "      <td>The Kitchen God's Wife</td>\n",
       "      <td>Amy Tan</td>\n",
       "      <td>Putnam Pub Group</td>\n",
       "      <td>http://images.amazon.com/images/P/0399135782.0...</td>\n",
       "      <td>http://images.amazon.com/images/P/0399135782.0...</td>\n",
       "      <td>http://images.amazon.com/images/P/0399135782.0...</td>\n",
       "      <td>NaN</td>\n",
       "      <td>The Kitchen God's Wife</td>\n",
       "    </tr>\n",
       "    <tr>\n",
       "      <th>6</th>\n",
       "      <td>0425176428</td>\n",
       "      <td>What If?: The World's Foremost Military Histor...</td>\n",
       "      <td>Robert Cowley</td>\n",
       "      <td>Berkley Publishing Group</td>\n",
       "      <td>http://images.amazon.com/images/P/0425176428.0...</td>\n",
       "      <td>http://images.amazon.com/images/P/0425176428.0...</td>\n",
       "      <td>http://images.amazon.com/images/P/0425176428.0...</td>\n",
       "      <td>NaN</td>\n",
       "      <td>What If?</td>\n",
       "    </tr>\n",
       "    <tr>\n",
       "      <th>7</th>\n",
       "      <td>0671870432</td>\n",
       "      <td>PLEADING GUILTY</td>\n",
       "      <td>Scott Turow</td>\n",
       "      <td>Audioworks</td>\n",
       "      <td>http://images.amazon.com/images/P/0671870432.0...</td>\n",
       "      <td>http://images.amazon.com/images/P/0671870432.0...</td>\n",
       "      <td>http://images.amazon.com/images/P/0671870432.0...</td>\n",
       "      <td>NaN</td>\n",
       "      <td>Pleading Guilty</td>\n",
       "    </tr>\n",
       "    <tr>\n",
       "      <th>8</th>\n",
       "      <td>0679425608</td>\n",
       "      <td>Under the Black Flag: The Romance and the Real...</td>\n",
       "      <td>David Cordingly</td>\n",
       "      <td>Random House</td>\n",
       "      <td>http://images.amazon.com/images/P/0679425608.0...</td>\n",
       "      <td>http://images.amazon.com/images/P/0679425608.0...</td>\n",
       "      <td>http://images.amazon.com/images/P/0679425608.0...</td>\n",
       "      <td>NaN</td>\n",
       "      <td>Bajo Bandera Negra</td>\n",
       "    </tr>\n",
       "    <tr>\n",
       "      <th>9</th>\n",
       "      <td>074322678X</td>\n",
       "      <td>Where You'll Find Me: And Other Stories</td>\n",
       "      <td>Ann Beattie</td>\n",
       "      <td>Scribner</td>\n",
       "      <td>http://images.amazon.com/images/P/074322678X.0...</td>\n",
       "      <td>http://images.amazon.com/images/P/074322678X.0...</td>\n",
       "      <td>http://images.amazon.com/images/P/074322678X.0...</td>\n",
       "      <td>NaN</td>\n",
       "      <td>Where you'll find me, and other stories</td>\n",
       "    </tr>\n",
       "  </tbody>\n",
       "</table>\n",
       "</div>"
      ],
      "text/plain": [
       "         ISBN                                         Book-Title  \\\n",
       "0  0195153448                                Classical Mythology   \n",
       "1  0002005018                                       Clara Callan   \n",
       "2  0060973129                               Decision in Normandy   \n",
       "3  0374157065  Flu: The Story of the Great Influenza Pandemic...   \n",
       "4  0393045218                             The Mummies of Urumchi   \n",
       "5  0399135782                             The Kitchen God's Wife   \n",
       "6  0425176428  What If?: The World's Foremost Military Histor...   \n",
       "7  0671870432                                    PLEADING GUILTY   \n",
       "8  0679425608  Under the Black Flag: The Romance and the Real...   \n",
       "9  074322678X            Where You'll Find Me: And Other Stories   \n",
       "\n",
       "            Book-Author                   Publisher  \\\n",
       "0    Mark P. O. Morford     Oxford University Press   \n",
       "1  Richard Bruce Wright       HarperFlamingo Canada   \n",
       "2          Carlo D'Este             HarperPerennial   \n",
       "3      Gina Bari Kolata        Farrar Straus Giroux   \n",
       "4       E. J. W. Barber  W. W. Norton &amp; Company   \n",
       "5               Amy Tan            Putnam Pub Group   \n",
       "6         Robert Cowley    Berkley Publishing Group   \n",
       "7           Scott Turow                  Audioworks   \n",
       "8       David Cordingly                Random House   \n",
       "9           Ann Beattie                    Scribner   \n",
       "\n",
       "                                         Image-URL-S  \\\n",
       "0  http://images.amazon.com/images/P/0195153448.0...   \n",
       "1  http://images.amazon.com/images/P/0002005018.0...   \n",
       "2  http://images.amazon.com/images/P/0060973129.0...   \n",
       "3  http://images.amazon.com/images/P/0374157065.0...   \n",
       "4  http://images.amazon.com/images/P/0393045218.0...   \n",
       "5  http://images.amazon.com/images/P/0399135782.0...   \n",
       "6  http://images.amazon.com/images/P/0425176428.0...   \n",
       "7  http://images.amazon.com/images/P/0671870432.0...   \n",
       "8  http://images.amazon.com/images/P/0679425608.0...   \n",
       "9  http://images.amazon.com/images/P/074322678X.0...   \n",
       "\n",
       "                                         Image-URL-M  \\\n",
       "0  http://images.amazon.com/images/P/0195153448.0...   \n",
       "1  http://images.amazon.com/images/P/0002005018.0...   \n",
       "2  http://images.amazon.com/images/P/0060973129.0...   \n",
       "3  http://images.amazon.com/images/P/0374157065.0...   \n",
       "4  http://images.amazon.com/images/P/0393045218.0...   \n",
       "5  http://images.amazon.com/images/P/0399135782.0...   \n",
       "6  http://images.amazon.com/images/P/0425176428.0...   \n",
       "7  http://images.amazon.com/images/P/0671870432.0...   \n",
       "8  http://images.amazon.com/images/P/0679425608.0...   \n",
       "9  http://images.amazon.com/images/P/074322678X.0...   \n",
       "\n",
       "                                         Image-URL-L  book-description  \\\n",
       "0  http://images.amazon.com/images/P/0195153448.0...               NaN   \n",
       "1  http://images.amazon.com/images/P/0002005018.0...               NaN   \n",
       "2  http://images.amazon.com/images/P/0060973129.0...               NaN   \n",
       "3  http://images.amazon.com/images/P/0374157065.0...               NaN   \n",
       "4  http://images.amazon.com/images/P/0393045218.0...               NaN   \n",
       "5  http://images.amazon.com/images/P/0399135782.0...               NaN   \n",
       "6  http://images.amazon.com/images/P/0425176428.0...               NaN   \n",
       "7  http://images.amazon.com/images/P/0671870432.0...               NaN   \n",
       "8  http://images.amazon.com/images/P/0679425608.0...               NaN   \n",
       "9  http://images.amazon.com/images/P/074322678X.0...               NaN   \n",
       "\n",
       "                                     Book-escription  \n",
       "0                                Classical Mythology  \n",
       "1                                       Clara Callan  \n",
       "2                               Decision in Normandy  \n",
       "3  Flu: The Story of the Great Influenza Pandemic...  \n",
       "4                           The mummies of Ürümchi  \n",
       "5                             The Kitchen God's Wife  \n",
       "6                                           What If?  \n",
       "7                                    Pleading Guilty  \n",
       "8                                 Bajo Bandera Negra  \n",
       "9            Where you'll find me, and other stories  "
      ]
     },
     "execution_count": 52,
     "metadata": {},
     "output_type": "execute_result"
    }
   ],
   "source": [
    "pd.read_csv('your_updated_dataset2.csv')"
   ]
  },
  {
   "cell_type": "code",
   "execution_count": null,
   "id": "54fe8cff",
   "metadata": {},
   "outputs": [],
   "source": []
  },
  {
   "cell_type": "markdown",
   "id": "6f8ebae9",
   "metadata": {},
   "source": [
    "**for vaex**"
   ]
  },
  {
   "cell_type": "code",
   "execution_count": null,
   "id": "bdcbbea6",
   "metadata": {},
   "outputs": [],
   "source": []
  },
  {
   "cell_type": "code",
   "execution_count": 22,
   "id": "045c94c1",
   "metadata": {},
   "outputs": [],
   "source": [
    "\n",
    "\n",
    "import requests\n",
    "from bs4 import BeautifulSoup\n",
    "import pandas as pd\n",
    "\n",
    "# Function to scrape book descriptions\n",
    "def scrape_book_description(title, author):\n",
    "    # Format the title to be used in the URL\n",
    "    formatted_title = title.replace(' ', '+')\n",
    "    formatted_author = author.replace(' ', '+')\n",
    "\n",
    "    # Create the search URL\n",
    "    search_url = f\"https://www.google.com/search?q={formatted_title}+by+{formatted_author}\"\n",
    "\n",
    "    # Send a GET request to the search URL\n",
    "    response = requests.get(search_url)\n",
    "\n",
    "    # Check if the request was successful\n",
    "    if response.status_code == 200:\n",
    "        # Parse the HTML content\n",
    "        soup = BeautifulSoup(response.content, 'html.parser')\n",
    "\n",
    "        # Find the book description element\n",
    "        description_element = soup.find('div', class_=\"BNeawe\")\n",
    "\n",
    "        # Check if a description is found\n",
    "        if description_element:\n",
    "            return description_element.text.strip()\n",
    "\n",
    "    # If no description is found, return None\n",
    "    return None\n",
    "\n",
    "# Load your dataset with book titles into a pandas DataFrame\n",
    "dfx = books_new\n",
    "dfx.to_hdf('df.h5', key='data', mode='w')\n",
    "df = pd.read_hdf('df.h5', key='data')\n",
    "# Add a new column for book descriptions\n",
    "df['Book-Description'] = None\n",
    "\n",
    "# Iterate over the book titles and scrape descriptions\n",
    "for index, row in df.iterrows():\n",
    "    book_title = row['Book-Title']\n",
    "    book_author = row['Book-Author']\n",
    "    description = scrape_book_description(book_title, book_author)\n",
    "    df.loc[index, 'Book-Description'] = description\n",
    "\n",
    "\n",
    "# Save the updated DataFrame with book descriptions\n",
    "df.to_hdf('updated_file.h5', key='data', mode='w')\n"
   ]
  },
  {
   "cell_type": "code",
   "execution_count": 23,
   "id": "ba6d7b3a",
   "metadata": {},
   "outputs": [
    {
     "data": {
      "text/html": [
       "<div>\n",
       "<style scoped>\n",
       "    .dataframe tbody tr th:only-of-type {\n",
       "        vertical-align: middle;\n",
       "    }\n",
       "\n",
       "    .dataframe tbody tr th {\n",
       "        vertical-align: top;\n",
       "    }\n",
       "\n",
       "    .dataframe thead th {\n",
       "        text-align: right;\n",
       "    }\n",
       "</style>\n",
       "<table border=\"1\" class=\"dataframe\">\n",
       "  <thead>\n",
       "    <tr style=\"text-align: right;\">\n",
       "      <th></th>\n",
       "      <th>ISBN</th>\n",
       "      <th>Book-Title</th>\n",
       "      <th>Book-Author</th>\n",
       "      <th>Publisher</th>\n",
       "      <th>Image-URL-S</th>\n",
       "      <th>Image-URL-M</th>\n",
       "      <th>Image-URL-L</th>\n",
       "      <th>Book-Description</th>\n",
       "    </tr>\n",
       "  </thead>\n",
       "  <tbody>\n",
       "    <tr>\n",
       "      <th>0</th>\n",
       "      <td>0195153448</td>\n",
       "      <td>Classical Mythology</td>\n",
       "      <td>Mark P. O. Morford</td>\n",
       "      <td>Oxford University Press</td>\n",
       "      <td>http://images.amazon.com/images/P/0195153448.0...</td>\n",
       "      <td>http://images.amazon.com/images/P/0195153448.0...</td>\n",
       "      <td>http://images.amazon.com/images/P/0195153448.0...</td>\n",
       "      <td>Classical Mythology</td>\n",
       "    </tr>\n",
       "    <tr>\n",
       "      <th>1</th>\n",
       "      <td>0002005018</td>\n",
       "      <td>Clara Callan</td>\n",
       "      <td>Richard Bruce Wright</td>\n",
       "      <td>HarperFlamingo Canada</td>\n",
       "      <td>http://images.amazon.com/images/P/0002005018.0...</td>\n",
       "      <td>http://images.amazon.com/images/P/0002005018.0...</td>\n",
       "      <td>http://images.amazon.com/images/P/0002005018.0...</td>\n",
       "      <td>Clara Callan</td>\n",
       "    </tr>\n",
       "    <tr>\n",
       "      <th>2</th>\n",
       "      <td>0060973129</td>\n",
       "      <td>Decision in Normandy</td>\n",
       "      <td>Carlo D'Este</td>\n",
       "      <td>HarperPerennial</td>\n",
       "      <td>http://images.amazon.com/images/P/0060973129.0...</td>\n",
       "      <td>http://images.amazon.com/images/P/0060973129.0...</td>\n",
       "      <td>http://images.amazon.com/images/P/0060973129.0...</td>\n",
       "      <td>Decision in Normandy</td>\n",
       "    </tr>\n",
       "    <tr>\n",
       "      <th>3</th>\n",
       "      <td>0374157065</td>\n",
       "      <td>Flu: The Story of the Great Influenza Pandemic...</td>\n",
       "      <td>Gina Bari Kolata</td>\n",
       "      <td>Farrar Straus Giroux</td>\n",
       "      <td>http://images.amazon.com/images/P/0374157065.0...</td>\n",
       "      <td>http://images.amazon.com/images/P/0374157065.0...</td>\n",
       "      <td>http://images.amazon.com/images/P/0374157065.0...</td>\n",
       "      <td>Flu: The Story of the Great Influenza Pandemic...</td>\n",
       "    </tr>\n",
       "    <tr>\n",
       "      <th>4</th>\n",
       "      <td>0393045218</td>\n",
       "      <td>The Mummies of Urumchi</td>\n",
       "      <td>E. J. W. Barber</td>\n",
       "      <td>W. W. Norton &amp;amp; Company</td>\n",
       "      <td>http://images.amazon.com/images/P/0393045218.0...</td>\n",
       "      <td>http://images.amazon.com/images/P/0393045218.0...</td>\n",
       "      <td>http://images.amazon.com/images/P/0393045218.0...</td>\n",
       "      <td>The mummies of Ürümchi</td>\n",
       "    </tr>\n",
       "    <tr>\n",
       "      <th>5</th>\n",
       "      <td>0399135782</td>\n",
       "      <td>The Kitchen God's Wife</td>\n",
       "      <td>Amy Tan</td>\n",
       "      <td>Putnam Pub Group</td>\n",
       "      <td>http://images.amazon.com/images/P/0399135782.0...</td>\n",
       "      <td>http://images.amazon.com/images/P/0399135782.0...</td>\n",
       "      <td>http://images.amazon.com/images/P/0399135782.0...</td>\n",
       "      <td>The Kitchen God's Wife - Wikipedia</td>\n",
       "    </tr>\n",
       "    <tr>\n",
       "      <th>6</th>\n",
       "      <td>0425176428</td>\n",
       "      <td>What If?: The World's Foremost Military Histor...</td>\n",
       "      <td>Robert Cowley</td>\n",
       "      <td>Berkley Publishing Group</td>\n",
       "      <td>http://images.amazon.com/images/P/0425176428.0...</td>\n",
       "      <td>http://images.amazon.com/images/P/0425176428.0...</td>\n",
       "      <td>http://images.amazon.com/images/P/0425176428.0...</td>\n",
       "      <td>What If?</td>\n",
       "    </tr>\n",
       "    <tr>\n",
       "      <th>7</th>\n",
       "      <td>0671870432</td>\n",
       "      <td>PLEADING GUILTY</td>\n",
       "      <td>Scott Turow</td>\n",
       "      <td>Audioworks</td>\n",
       "      <td>http://images.amazon.com/images/P/0671870432.0...</td>\n",
       "      <td>http://images.amazon.com/images/P/0671870432.0...</td>\n",
       "      <td>http://images.amazon.com/images/P/0671870432.0...</td>\n",
       "      <td>Pleading Guilty</td>\n",
       "    </tr>\n",
       "    <tr>\n",
       "      <th>8</th>\n",
       "      <td>0679425608</td>\n",
       "      <td>Under the Black Flag: The Romance and the Real...</td>\n",
       "      <td>David Cordingly</td>\n",
       "      <td>Random House</td>\n",
       "      <td>http://images.amazon.com/images/P/0679425608.0...</td>\n",
       "      <td>http://images.amazon.com/images/P/0679425608.0...</td>\n",
       "      <td>http://images.amazon.com/images/P/0679425608.0...</td>\n",
       "      <td>Bajo Bandera Negra</td>\n",
       "    </tr>\n",
       "    <tr>\n",
       "      <th>9</th>\n",
       "      <td>074322678X</td>\n",
       "      <td>Where You'll Find Me: And Other Stories</td>\n",
       "      <td>Ann Beattie</td>\n",
       "      <td>Scribner</td>\n",
       "      <td>http://images.amazon.com/images/P/074322678X.0...</td>\n",
       "      <td>http://images.amazon.com/images/P/074322678X.0...</td>\n",
       "      <td>http://images.amazon.com/images/P/074322678X.0...</td>\n",
       "      <td>Where you'll find me, and other stories</td>\n",
       "    </tr>\n",
       "  </tbody>\n",
       "</table>\n",
       "</div>"
      ],
      "text/plain": [
       "         ISBN                                         Book-Title  \\\n",
       "0  0195153448                                Classical Mythology   \n",
       "1  0002005018                                       Clara Callan   \n",
       "2  0060973129                               Decision in Normandy   \n",
       "3  0374157065  Flu: The Story of the Great Influenza Pandemic...   \n",
       "4  0393045218                             The Mummies of Urumchi   \n",
       "5  0399135782                             The Kitchen God's Wife   \n",
       "6  0425176428  What If?: The World's Foremost Military Histor...   \n",
       "7  0671870432                                    PLEADING GUILTY   \n",
       "8  0679425608  Under the Black Flag: The Romance and the Real...   \n",
       "9  074322678X            Where You'll Find Me: And Other Stories   \n",
       "\n",
       "            Book-Author                   Publisher  \\\n",
       "0    Mark P. O. Morford     Oxford University Press   \n",
       "1  Richard Bruce Wright       HarperFlamingo Canada   \n",
       "2          Carlo D'Este             HarperPerennial   \n",
       "3      Gina Bari Kolata        Farrar Straus Giroux   \n",
       "4       E. J. W. Barber  W. W. Norton &amp; Company   \n",
       "5               Amy Tan            Putnam Pub Group   \n",
       "6         Robert Cowley    Berkley Publishing Group   \n",
       "7           Scott Turow                  Audioworks   \n",
       "8       David Cordingly                Random House   \n",
       "9           Ann Beattie                    Scribner   \n",
       "\n",
       "                                         Image-URL-S  \\\n",
       "0  http://images.amazon.com/images/P/0195153448.0...   \n",
       "1  http://images.amazon.com/images/P/0002005018.0...   \n",
       "2  http://images.amazon.com/images/P/0060973129.0...   \n",
       "3  http://images.amazon.com/images/P/0374157065.0...   \n",
       "4  http://images.amazon.com/images/P/0393045218.0...   \n",
       "5  http://images.amazon.com/images/P/0399135782.0...   \n",
       "6  http://images.amazon.com/images/P/0425176428.0...   \n",
       "7  http://images.amazon.com/images/P/0671870432.0...   \n",
       "8  http://images.amazon.com/images/P/0679425608.0...   \n",
       "9  http://images.amazon.com/images/P/074322678X.0...   \n",
       "\n",
       "                                         Image-URL-M  \\\n",
       "0  http://images.amazon.com/images/P/0195153448.0...   \n",
       "1  http://images.amazon.com/images/P/0002005018.0...   \n",
       "2  http://images.amazon.com/images/P/0060973129.0...   \n",
       "3  http://images.amazon.com/images/P/0374157065.0...   \n",
       "4  http://images.amazon.com/images/P/0393045218.0...   \n",
       "5  http://images.amazon.com/images/P/0399135782.0...   \n",
       "6  http://images.amazon.com/images/P/0425176428.0...   \n",
       "7  http://images.amazon.com/images/P/0671870432.0...   \n",
       "8  http://images.amazon.com/images/P/0679425608.0...   \n",
       "9  http://images.amazon.com/images/P/074322678X.0...   \n",
       "\n",
       "                                         Image-URL-L  \\\n",
       "0  http://images.amazon.com/images/P/0195153448.0...   \n",
       "1  http://images.amazon.com/images/P/0002005018.0...   \n",
       "2  http://images.amazon.com/images/P/0060973129.0...   \n",
       "3  http://images.amazon.com/images/P/0374157065.0...   \n",
       "4  http://images.amazon.com/images/P/0393045218.0...   \n",
       "5  http://images.amazon.com/images/P/0399135782.0...   \n",
       "6  http://images.amazon.com/images/P/0425176428.0...   \n",
       "7  http://images.amazon.com/images/P/0671870432.0...   \n",
       "8  http://images.amazon.com/images/P/0679425608.0...   \n",
       "9  http://images.amazon.com/images/P/074322678X.0...   \n",
       "\n",
       "                                    Book-Description  \n",
       "0                                Classical Mythology  \n",
       "1                                       Clara Callan  \n",
       "2                               Decision in Normandy  \n",
       "3  Flu: The Story of the Great Influenza Pandemic...  \n",
       "4                           The mummies of Ürümchi  \n",
       "5                 The Kitchen God's Wife - Wikipedia  \n",
       "6                                           What If?  \n",
       "7                                    Pleading Guilty  \n",
       "8                                 Bajo Bandera Negra  \n",
       "9            Where you'll find me, and other stories  "
      ]
     },
     "execution_count": 23,
     "metadata": {},
     "output_type": "execute_result"
    }
   ],
   "source": [
    "\n",
    "pd.read_hdf('updated_file.h5', key='data')"
   ]
  },
  {
   "cell_type": "code",
   "execution_count": null,
   "id": "6efb1f07",
   "metadata": {},
   "outputs": [],
   "source": []
  },
  {
   "cell_type": "markdown",
   "id": "9a9c1f24",
   "metadata": {},
   "source": [
    "**for concurent futures**"
   ]
  },
  {
   "cell_type": "code",
   "execution_count": 33,
   "id": "1fb03150",
   "metadata": {},
   "outputs": [
    {
     "name": "stderr",
     "output_type": "stream",
     "text": [
      "C:\\Users\\Owner\\AppData\\Local\\Temp\\ipykernel_20316\\2511122704.py:49: SettingWithCopyWarning: \n",
      "A value is trying to be set on a copy of a slice from a DataFrame.\n",
      "Try using .loc[row_indexer,col_indexer] = value instead\n",
      "\n",
      "See the caveats in the documentation: https://pandas.pydata.org/pandas-docs/stable/user_guide/indexing.html#returning-a-view-versus-a-copy\n",
      "  df['book-description'] = descriptions\n"
     ]
    }
   ],
   "source": [
    "import pandas as pd\n",
    "import requests\n",
    "from bs4 import BeautifulSoup\n",
    "import concurrent.futures\n",
    "import os\n",
    "\n",
    "# Load the CSV file into a Pandas DataFrame\n",
    "df = books_new\n",
    "\n",
    "# Define a function to scrape the book description from a website\n",
    "def scrape_book_description(title, author):\n",
    "    # Format the title to be used in the URL\n",
    "    formatted_title = title.replace(' ', '+')\n",
    "    formatted_author = author.replace(' ', '+')\n",
    "    \n",
    "    search_url = f\"https://www.google.com/search?q={formatted_title}+by+{formatted_author}\"\n",
    "\n",
    "    # Send a GET request to the search URL\n",
    "    response = requests.get(search_url)\n",
    "\n",
    "    # Parse the HTML content\n",
    "    soup = BeautifulSoup(response.content, 'html.parser')\n",
    "\n",
    "    # Find the relevant element containing the book description\n",
    "    description_element = soup.find('div', class_=\"BNeawe\")\n",
    "\n",
    "    # Extract the book description if found, otherwise return None\n",
    "    if description_element:\n",
    "        return description_element.text.strip()\n",
    "    else:\n",
    "        return None\n",
    "\n",
    "# Define a worker function to scrape book descriptions in parallel\n",
    "def scrape_descriptions_parallel(row):\n",
    "    title = row[1]  # Assuming 'book-title' is the first column (index 0)\n",
    "    author = row[2]  # Assuming 'book-author' is the second column (index 1)\n",
    "    description = scrape_book_description(title, author)\n",
    "    return description\n",
    "\n",
    "# Set the maximum number of concurrent workers based on the number of CPU cores\n",
    "max_workers = os.cpu_count()\n",
    "\n",
    "# Create a ThreadPoolExecutor with the specified number of workers\n",
    "with concurrent.futures.ThreadPoolExecutor(max_workers=max_workers) as executor:\n",
    "    # Map the worker function to the DataFrame rows and scrape book descriptions in parallel\n",
    "    descriptions = list(executor.map(scrape_descriptions_parallel, df.itertuples(index=False)))\n",
    "\n",
    "# Create a new column 'book-description' in the DataFrame\n",
    "df['book-description'] = descriptions\n",
    "\n",
    "# Save the updated DataFrame to a new CSV file\n",
    "df.to_csv('updated_file.csv', index=False)\n"
   ]
  },
  {
   "cell_type": "code",
   "execution_count": 44,
   "id": "d9b69e0e",
   "metadata": {},
   "outputs": [
    {
     "data": {
      "text/plain": [
       "'Flu: The Story of the Great Influenza Pandemic of 1918 and the Search for the Virus That Caused It'"
      ]
     },
     "execution_count": 44,
     "metadata": {},
     "output_type": "execute_result"
    }
   ],
   "source": [
    "pd.read_csv('updated_file.csv').iloc[:,-1][3]"
   ]
  },
  {
   "cell_type": "code",
   "execution_count": null,
   "id": "e0f8401e",
   "metadata": {},
   "outputs": [],
   "source": []
  },
  {
   "cell_type": "markdown",
   "id": "834d0bbd",
   "metadata": {},
   "source": [
    "**for using new descriiptin**"
   ]
  },
  {
   "cell_type": "code",
   "execution_count": 46,
   "id": "833f2eb7",
   "metadata": {},
   "outputs": [
    {
     "ename": "AttributeError",
     "evalue": "'NoneType' object has no attribute 'a'",
     "output_type": "error",
     "traceback": [
      "\u001b[1;31m---------------------------------------------------------------------------\u001b[0m",
      "\u001b[1;31mAttributeError\u001b[0m                            Traceback (most recent call last)",
      "Input \u001b[1;32mIn [46]\u001b[0m, in \u001b[0;36m<cell line: 18>\u001b[1;34m()\u001b[0m\n\u001b[0;32m     16\u001b[0m \u001b[38;5;66;03m# Find the first search result link\u001b[39;00m\n\u001b[0;32m     17\u001b[0m search_result \u001b[38;5;241m=\u001b[39m soup\u001b[38;5;241m.\u001b[39mfind(\u001b[38;5;124m'\u001b[39m\u001b[38;5;124mdiv\u001b[39m\u001b[38;5;124m'\u001b[39m, class_\u001b[38;5;241m=\u001b[39m\u001b[38;5;124m\"\u001b[39m\u001b[38;5;124mbHexk Tz5Hvf\u001b[39m\u001b[38;5;124m\"\u001b[39m)\n\u001b[1;32m---> 18\u001b[0m first_link \u001b[38;5;241m=\u001b[39m \u001b[43msearch_result\u001b[49m\u001b[38;5;241;43m.\u001b[39;49m\u001b[43ma\u001b[49m[\u001b[38;5;124m'\u001b[39m\u001b[38;5;124mhref\u001b[39m\u001b[38;5;124m'\u001b[39m]\n\u001b[0;32m     20\u001b[0m \u001b[38;5;66;03m# Send a GET request to the first link and retrieve the HTML content\u001b[39;00m\n\u001b[0;32m     21\u001b[0m response \u001b[38;5;241m=\u001b[39m requests\u001b[38;5;241m.\u001b[39mget(first_link)\n",
      "\u001b[1;31mAttributeError\u001b[0m: 'NoneType' object has no attribute 'a'"
     ]
    }
   ],
   "source": [
    "import requests\n",
    "from bs4 import BeautifulSoup\n",
    "\n",
    "# Define the search query\n",
    "query = 'your search query'\n",
    "\n",
    "# Construct the search query URL\n",
    "search_url = f\"https://www.google.com/search?tbo=p&tbm=bks&q=isbn:0002005018+intitle:Clara+intitle:Callan+inauthor:Richard+inauthor:Bruce+inauthor:Wright&num=10\"\n",
    "\n",
    "# Send a GET request to the search URL\n",
    "response = requests.get(search_url)\n",
    "\n",
    "# Parse the HTML content\n",
    "soup = BeautifulSoup(response.content, 'html.parser')\n",
    "\n",
    "# Find the first search result link\n",
    "search_result = soup.find('div', class_=\"bHexk Tz5Hvf\")\n",
    "first_link = search_result.a['href']\n",
    "\n",
    "# Send a GET request to the first link and retrieve the HTML content\n",
    "response = requests.get(first_link)\n",
    "\n",
    "# Parse the HTML content of the first link\n",
    "soup = BeautifulSoup(response.content, 'html.parser')\n",
    "\n",
    "# Now you can work with the parsed HTML content of the first link\n",
    "# For example, you can extract specific elements or information from the page\n",
    "# Let's print the title of the webpage\n",
    "print(soup.title.text)\n"
   ]
  },
  {
   "cell_type": "code",
   "execution_count": 47,
   "id": "2c9c30d1",
   "metadata": {},
   "outputs": [
    {
     "name": "stdout",
     "output_type": "stream",
     "text": [
      " Google Maps \n"
     ]
    }
   ],
   "source": [
    "import requests\n",
    "from bs4 import BeautifulSoup\n",
    "\n",
    "# Define the search query\n",
    "search_query = 'your search query'\n",
    "\n",
    "# Send a GET request to Google search with the query\n",
    "google_url = f\"https://www.google.com/search?tbo=p&tbm=bks&q=isbn:0002005018+intitle:Clara+intitle:Callan+inauthor:Richard+inauthor:Bruce+inauthor:Wright&num=10\"\n",
    "\n",
    "response = requests.get(google_url)\n",
    "\n",
    "# Parse the HTML content of the search results page\n",
    "soup = BeautifulSoup(response.content, 'html.parser')\n",
    "\n",
    "# Find the first search result URL\n",
    "search_results = soup.find_all('a')\n",
    "first_result_url = None\n",
    "for result in search_results:\n",
    "    url = result.get('href')\n",
    "    if url.startswith('http') or url.startswith('https'):\n",
    "        first_result_url = url\n",
    "        break\n",
    "\n",
    "# Open the first search result URL and scrape the content\n",
    "if first_result_url:\n",
    "    website_response = requests.get(first_result_url)\n",
    "    website_soup = BeautifulSoup(website_response.content, 'html.parser')\n",
    "\n",
    "    # Now you can work with the parsed HTML content of the website\n",
    "    # For example, you can extract specific elements or information from the page\n",
    "    # Let's print the title of the webpage\n",
    "    print(website_soup.title.text)\n",
    "else:\n",
    "    print('No search results found.')\n"
   ]
  },
  {
   "cell_type": "code",
   "execution_count": null,
   "id": "e30ea250",
   "metadata": {},
   "outputs": [],
   "source": []
  },
  {
   "cell_type": "code",
   "execution_count": null,
   "id": "2c559fe9",
   "metadata": {},
   "outputs": [],
   "source": []
  },
  {
   "cell_type": "code",
   "execution_count": null,
   "id": "97c7587a",
   "metadata": {},
   "outputs": [],
   "source": []
  },
  {
   "cell_type": "code",
   "execution_count": null,
   "id": "ebd24d4e",
   "metadata": {},
   "outputs": [],
   "source": []
  },
  {
   "cell_type": "code",
   "execution_count": null,
   "id": "fe51b300",
   "metadata": {},
   "outputs": [],
   "source": []
  },
  {
   "cell_type": "code",
   "execution_count": null,
   "id": "63913ef1",
   "metadata": {},
   "outputs": [],
   "source": []
  },
  {
   "cell_type": "code",
   "execution_count": null,
   "id": "c16798b2",
   "metadata": {},
   "outputs": [],
   "source": []
  },
  {
   "cell_type": "code",
   "execution_count": null,
   "id": "f0a40200",
   "metadata": {},
   "outputs": [],
   "source": []
  },
  {
   "cell_type": "code",
   "execution_count": null,
   "id": "fe2c1453",
   "metadata": {},
   "outputs": [],
   "source": []
  },
  {
   "cell_type": "code",
   "execution_count": null,
   "id": "cbdbcd66",
   "metadata": {},
   "outputs": [],
   "source": [
    "ratings = pd.read_csv('Ratings.csv')\n",
    "ratings.head()"
   ]
  },
  {
   "cell_type": "code",
   "execution_count": null,
   "id": "4a808727",
   "metadata": {},
   "outputs": [],
   "source": [
    "users = pd.read_csv('Users.csv')\n",
    "users.head()"
   ]
  },
  {
   "cell_type": "code",
   "execution_count": null,
   "id": "e8156e26",
   "metadata": {},
   "outputs": [],
   "source": [
    "books.info()"
   ]
  },
  {
   "cell_type": "markdown",
   "id": "fb573fdb",
   "metadata": {},
   "source": [
    "**obserations** : There are some null value in the dataset\n"
   ]
  },
  {
   "cell_type": "code",
   "execution_count": null,
   "id": "2461b1a0",
   "metadata": {},
   "outputs": [],
   "source": [
    "books.isnull().sum()"
   ]
  },
  {
   "cell_type": "code",
   "execution_count": null,
   "id": "61cfc1a7",
   "metadata": {},
   "outputs": [],
   "source": [
    "users.isnull().sum()"
   ]
  },
  {
   "cell_type": "markdown",
   "id": "495c652e",
   "metadata": {},
   "source": [
    "**observations** - age column has 110762 null values "
   ]
  },
  {
   "cell_type": "code",
   "execution_count": null,
   "id": "6e1c9815",
   "metadata": {},
   "outputs": [],
   "source": [
    "ratings.isnull().sum()"
   ]
  },
  {
   "cell_type": "markdown",
   "id": "641d960e",
   "metadata": {},
   "source": [
    "**observation** - no null values here ... great"
   ]
  },
  {
   "cell_type": "code",
   "execution_count": null,
   "id": "45358528",
   "metadata": {},
   "outputs": [],
   "source": [
    "books.duplicated().sum()"
   ]
  },
  {
   "cell_type": "code",
   "execution_count": null,
   "id": "e0f0b809",
   "metadata": {},
   "outputs": [],
   "source": [
    "users.duplicated().sum()"
   ]
  },
  {
   "cell_type": "code",
   "execution_count": null,
   "id": "ceb4124f",
   "metadata": {},
   "outputs": [],
   "source": [
    "ratings.duplicated().sum()"
   ]
  },
  {
   "cell_type": "markdown",
   "id": "8d85c8cd",
   "metadata": {},
   "source": [
    "**observations** - NO duplicated values in all three data"
   ]
  },
  {
   "cell_type": "code",
   "execution_count": null,
   "id": "2d6da633",
   "metadata": {},
   "outputs": [],
   "source": [
    "import matplotlib.pyplot as plt\n",
    "import seaborn as sns"
   ]
  },
  {
   "cell_type": "code",
   "execution_count": null,
   "id": "cec4de70",
   "metadata": {},
   "outputs": [],
   "source": [
    "books['Book-Author'].value_counts().head(10).plot(kind = 'bar')"
   ]
  },
  {
   "cell_type": "markdown",
   "id": "1bc489ba",
   "metadata": {},
   "source": [
    "**Observations :** - Top 10 most frequent authors in the dataset"
   ]
  },
  {
   "cell_type": "code",
   "execution_count": null,
   "id": "c8b0327c",
   "metadata": {},
   "outputs": [],
   "source": [
    "books['Book-Title'].value_counts().head(10)"
   ]
  },
  {
   "cell_type": "markdown",
   "id": "f70a9425",
   "metadata": {},
   "source": [
    "**Observatoion :** - Here some books have multiple publications and ISBN value , hence they repeat."
   ]
  },
  {
   "cell_type": "code",
   "execution_count": null,
   "id": "0a3543da",
   "metadata": {},
   "outputs": [],
   "source": [
    "books['Year-Of-Publication'].value_counts().head(10)"
   ]
  },
  {
   "cell_type": "code",
   "execution_count": null,
   "id": "c71debba",
   "metadata": {},
   "outputs": [],
   "source": [
    "books.describe()"
   ]
  },
  {
   "cell_type": "code",
   "execution_count": null,
   "id": "2cb4b788",
   "metadata": {},
   "outputs": [],
   "source": [
    "books['Publisher'].value_counts().head().plot(kind = 'pie')\n",
    "plt.show()"
   ]
  },
  {
   "cell_type": "markdown",
   "id": "b6f2b72d",
   "metadata": {},
   "source": [
    "Here Harlequin is the biggest publisher of all, over the years."
   ]
  },
  {
   "cell_type": "markdown",
   "id": "1e6167b3",
   "metadata": {},
   "source": [
    "### Popularity based Recommendation System"
   ]
  },
  {
   "cell_type": "code",
   "execution_count": null,
   "id": "8479ae70",
   "metadata": {},
   "outputs": [],
   "source": [
    "books_with_rating = books.merge(ratings, on = 'ISBN')\n",
    "books_with_rating.head()"
   ]
  },
  {
   "cell_type": "code",
   "execution_count": null,
   "id": "9bf07b29",
   "metadata": {},
   "outputs": [],
   "source": [
    "num_rating_df = books_with_rating.groupby('Book-Title').count()['Book-Rating'].reset_index()\n",
    "num_rating_df.rename(columns = {'Book-Rating' : 'num-rating'}, inplace = True)\n",
    "num_rating_df.head()"
   ]
  },
  {
   "cell_type": "code",
   "execution_count": null,
   "id": "fd5646d7",
   "metadata": {},
   "outputs": [],
   "source": [
    "avg_rating_df = books_with_rating.groupby('Book-Title').mean()['Book-Rating'].reset_index()\n",
    "avg_rating_df.rename(columns = {'Book-Rating' : 'avg-rating'}, inplace = True)\n",
    "avg_rating_df.head()"
   ]
  },
  {
   "cell_type": "code",
   "execution_count": null,
   "id": "bd09ba3e",
   "metadata": {},
   "outputs": [],
   "source": [
    "popularity_df = num_rating_df.merge(avg_rating_df, on = 'Book-Title')\n",
    "popularity_df.head()"
   ]
  },
  {
   "cell_type": "markdown",
   "id": "3d65b6eb",
   "metadata": {},
   "source": [
    "<b><br><br>We only want those books whose number of ratings is greater than 250:</b>\n"
   ]
  },
  {
   "cell_type": "code",
   "execution_count": null,
   "id": "dfdcecbb",
   "metadata": {},
   "outputs": [],
   "source": [
    "popularity_df = popularity_df[popularity_df['num-rating']>= 250].sort_values('avg-rating', ascending = False).head(50)\n",
    "popularity_df.reset_index()"
   ]
  },
  {
   "cell_type": "markdown",
   "id": "71adeee3",
   "metadata": {},
   "source": [
    "**Observation** - These are the top 50 most popular books on our platform"
   ]
  },
  {
   "cell_type": "markdown",
   "id": "b90baad4",
   "metadata": {},
   "source": [
    "Now I want book's author name , image of the book to show on the dashboard"
   ]
  },
  {
   "cell_type": "code",
   "execution_count": null,
   "id": "5d31e0ee",
   "metadata": {
    "scrolled": true
   },
   "outputs": [],
   "source": [
    "popularity_df = popularity_df.merge(books, on = 'Book-Title').drop_duplicates('Book-Title')[['Book-Title', 'Book-Author',\n",
    "                                                                             'Image-URL-M', 'num-rating', 'avg-rating',\n",
    "                                                                             'Year-Of-Publication']]"
   ]
  },
  {
   "cell_type": "code",
   "execution_count": null,
   "id": "0fa4b79d",
   "metadata": {},
   "outputs": [],
   "source": [
    "popularity_df.head()"
   ]
  },
  {
   "cell_type": "code",
   "execution_count": null,
   "id": "ff7cbfcf",
   "metadata": {},
   "outputs": [],
   "source": []
  }
 ],
 "metadata": {
  "kernelspec": {
   "display_name": "Python 3 (ipykernel)",
   "language": "python",
   "name": "python3"
  },
  "language_info": {
   "codemirror_mode": {
    "name": "ipython",
    "version": 3
   },
   "file_extension": ".py",
   "mimetype": "text/x-python",
   "name": "python",
   "nbconvert_exporter": "python",
   "pygments_lexer": "ipython3",
   "version": "3.10.4"
  }
 },
 "nbformat": 4,
 "nbformat_minor": 5
}
